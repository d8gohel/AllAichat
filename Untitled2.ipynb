{
 "cells": [
  {
   "cell_type": "code",
   "execution_count": 3,
   "id": "52bc9ed8-ad1a-4153-93de-ff253de6de59",
   "metadata": {},
   "outputs": [
    {
     "name": "stdout",
     "output_type": "stream",
     "text": [
      "Pickle file created: groqcloud_function.pkl\n"
     ]
    }
   ],
   "source": [
    "import pickle\n",
    "from langchain_groq import ChatGroq\n",
    "\n",
    "# Define the function\n",
    "def query_groqcloud(model_name, prompt):\n",
    "    chat = ChatGroq(\n",
    "        groq_api_key=\"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\",  # Replace with your actual API key\n",
    "        model_name=model_name\n",
    "    )\n",
    "    response = chat.invoke(prompt)\n",
    "    return response.content, model_name  # Return both the response and model_name\n",
    "\n",
    "# Save the function to a pickle file\n",
    "with open(\"groqcloud_function.pkl\", \"wb\") as f:\n",
    "    pickle.dump(query_groqcloud, f)\n",
    "\n",
    "print(\"Pickle file created: groqcloud_function.pkl\")\n"
   ]
  },
  {
   "cell_type": "code",
   "execution_count": 4,
   "id": "a15930ee-f1f1-48c7-ae8e-4aa6d989da28",
   "metadata": {},
   "outputs": [
    {
     "name": "stdout",
     "output_type": "stream",
     "text": [
      "API stands for User Interface (UI) for computers or machines. It is a set of rules and protocols for building and interacting with software applications. APIs allow different software applications to communicate with each other and share data and functionality, making it easier for developers to create integrated and interactive services.\n",
      "\n",
      "There are several types of APIs, including:\n",
      "\n",
      "* Web APIs, which are used to interact with web-based services and applications\n",
      "* REST APIs, which use the Representational State Transfer (REST) architectural style to transfer data between systems\n",
      "* SOAP APIs, which use the Simple Object Access Protocol (SOAP) to transfer data between systems\n",
      "* RPC APIs, which use the Remote Procedure Call (RPC) protocol to call functions on a remote system\n",
      "\n",
      "APIs are an essential part of modern software development and are used in a wide range of applications, from social media platforms and e-commerce websites to enterprise software and mobile apps.\n",
      "mixtral-8x7b-32768\n"
     ]
    }
   ],
   "source": [
    "import pickle\n",
    "\n",
    "# Load the function\n",
    "with open(\"groqcloud_function.pkl\", \"rb\") as f:\n",
    "    loaded_function = pickle.load(f)\n",
    "\n",
    "# Example usage\n",
    "response,model = loaded_function(\"mixtral-8x7b-32768\", \"What is API?\")\n",
    "print(response)\n",
    "print(model)"
   ]
  },
  {
   "cell_type": "code",
   "execution_count": 5,
   "id": "55ab61c3-4a1b-45ab-8970-0e2438b32417",
   "metadata": {},
   "outputs": [
    {
     "name": "stdout",
     "output_type": "stream",
     "text": [
      "Converted to dill: groqcloud_function.dill\n"
     ]
    }
   ],
   "source": [
    "import pickle\n",
    "import dill\n",
    "\n",
    "# Load the function from pickle\n",
    "with open(\"groqcloud_function.pkl\", \"rb\") as f:\n",
    "    query_groqcloud = pickle.load(f)\n",
    "\n",
    "# Save the function using dill\n",
    "with open(\"groqcloud_function.dill\", \"wb\") as f:\n",
    "    dill.dump(query_groqcloud, f)\n",
    "\n",
    "print(\"Converted to dill: groqcloud_function.dill\")\n"
   ]
  },
  {
   "cell_type": "code",
   "execution_count": null,
   "id": "c263c9ff",
   "metadata": {},
   "outputs": [
    {
     "name": "stdout",
     "output_type": "stream",
     "text": [
      "Collecting dill\n",
      "  Downloading dill-0.3.9-py3-none-any.whl.metadata (10 kB)\n",
      "Downloading dill-0.3.9-py3-none-any.whl (119 kB)\n",
      "Installing collected packages: dill\n",
      "Successfully installed dill-0.3.9\n"
     ]
    }
   ],
   "source": [
    "!pip install dill"
   ]
  },
  {
   "cell_type": "code",
   "execution_count": 7,
   "id": "4f19296b",
   "metadata": {},
   "outputs": [
    {
     "name": "stdout",
     "output_type": "stream",
     "text": [
      "Artificial Intelligence (\n",
      "================\n",
      "\n",
      "Artificial Intelligence (AI) refers to the ability of a computer or a machine to perform tasks that typically require human intelligence. These tasks include learning from experience, understanding spoken or written language, recognizing patterns, solving problems, and making decisions.\n",
      "\n",
      "There are two main types of AI: narrow or weak AI and general or strong AI. Narrow AI is designed to perform a specific task, such as voice recognition or image analysis. General AI, on the other hand, is capable of performing any intellectual task that a human being can do.\n",
      "\n",
      "AI has many applications in various fields, including healthcare, finance, education, entertainment, transportation, and manufacturing. Some examples of AI applications include virtual personal assistants, self-driving cars, fraud detection, and personalized learning.\n",
      "\n",
      "AI has the potential to transform many industries and improve the way we live and work. However, it also raises ethical and social issues that need to be addressed, such as job displacement, privacy, and bias. It is important to ensure that AI is developed and used responsibly and ethically, with the goal of benefiting society as a whole.\n",
      "mixtral-8x7b-32768\n"
     ]
    }
   ],
   "source": [
    "import dill\n",
    "\n",
    "# Load the function using dill\n",
    "with open(\"groqcloud_function.dill\", \"rb\") as f:\n",
    "    query_groqcloud = dill.load(f)\n",
    "\n",
    "# Test the function\n",
    "response,mode1 = query_groqcloud(\"mixtral-8x7b-32768\", \"What is AI?\")\n",
    "print(response)\n",
    "print(model)\n"
   ]
  },
  {
   "cell_type": "markdown",
   "id": "60f3ef7e",
   "metadata": {},
   "source": []
  },
  {
   "cell_type": "code",
   "execution_count": null,
   "id": "0c5fcbc9",
   "metadata": {},
   "outputs": [],
   "source": []
  }
 ],
 "metadata": {
  "kernelspec": {
   "display_name": "Python 3",
   "language": "python",
   "name": "python3"
  },
  "language_info": {
   "codemirror_mode": {
    "name": "ipython",
    "version": 3
   },
   "file_extension": ".py",
   "mimetype": "text/x-python",
   "name": "python",
   "nbconvert_exporter": "python",
   "pygments_lexer": "ipython3",
   "version": "3.12.2"
  }
 },
 "nbformat": 4,
 "nbformat_minor": 5
}
